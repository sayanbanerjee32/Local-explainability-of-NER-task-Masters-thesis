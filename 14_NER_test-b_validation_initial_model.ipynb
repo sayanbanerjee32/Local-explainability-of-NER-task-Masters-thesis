{
 "cells": [
  {
   "cell_type": "markdown",
   "metadata": {},
   "source": [
    "# Updates from last version  \n",
    "\n",
    "*"
   ]
  },
  {
   "cell_type": "code",
   "execution_count": 1,
   "metadata": {},
   "outputs": [
    {
     "name": "stdout",
     "output_type": "stream",
     "text": [
      "env: PYTHONHASHSEED=0\n"
     ]
    }
   ],
   "source": [
    "%env PYTHONHASHSEED=0"
   ]
  },
  {
   "cell_type": "code",
   "execution_count": 2,
   "metadata": {},
   "outputs": [
    {
     "name": "stderr",
     "output_type": "stream",
     "text": [
      "Using TensorFlow backend.\n"
     ]
    }
   ],
   "source": [
    "import pandas as pd\n",
    "import collections\n",
    "import pickle\n",
    "\n",
    "from keras.preprocessing.sequence import pad_sequences\n",
    "from keras.utils import to_categorical\n",
    "from keras.models import load_model\n",
    "from keras_contrib.layers import CRF\n",
    "from keras_contrib.losses import crf_loss\n",
    "from keras_contrib.metrics import crf_accuracy, crf_marginal_accuracy, crf_viterbi_accuracy\n",
    "\n",
    "from seqeval.metrics import precision_score, recall_score, f1_score, classification_report\n",
    "\n",
    "from ner_util import pre_process_data_ner, \\\n",
    "                        iob_to_iob2,\\\n",
    "                        SentenceGetter, \\\n",
    "                        format_aux_input, \\\n",
    "                        reduce_sentence_length_by_word, \\\n",
    "                        pred2label, \\\n",
    "                        sent2features, \\\n",
    "                        get_f1"
   ]
  },
  {
   "cell_type": "code",
   "execution_count": 3,
   "metadata": {},
   "outputs": [],
   "source": [
    "# file paths - note test b validation\n",
    "validation_iob_tagged_file = '../data/CoNLL-2003/eng.testb'\n",
    "save_best_weights = '../models/ner/bi_lstm_crf_last_epoch_weights.h5'\n",
    "# '../models/ner/bi_lstm_crf_weights.h5'\n",
    "vocab2int_path = '../models/ner_bilstm_crf_train_vocab2int.pkl'\n",
    "# oh_encoder_path = '../models/ner_bilstm_crf_trained_oh_encoder.pkl'\n",
    "# standard_transformer_path = '../models/ner_bilstm_crf_trained_standard_transform.pkl'\n",
    "preprocess_transformer_path = '../models/ner_bilstm_crf_trained_pre-proc_transform.pkl'\n",
    "tag2idx_path = '../models/ner_bilstm_crf_tag2idx.pkl'\n",
    "idx2tag_path = '../models/ner_bilstm_crf_idx2tag.pkl'"
   ]
  },
  {
   "cell_type": "code",
   "execution_count": 4,
   "metadata": {},
   "outputs": [],
   "source": [
    "# other configurations\n",
    "max_words = 25\n",
    "max_len = 25\n",
    "n_tags = 9\n",
    "num_word_prev = 5\n",
    "num_word_next = 5"
   ]
  },
  {
   "cell_type": "markdown",
   "metadata": {},
   "source": [
    "## Load models"
   ]
  },
  {
   "cell_type": "code",
   "execution_count": 5,
   "metadata": {},
   "outputs": [],
   "source": [
    "with (open(vocab2int_path, \"rb\")) as _openfile:\n",
    "    vocab_to_int = pickle.load(_openfile)"
   ]
  },
  {
   "cell_type": "code",
   "execution_count": 6,
   "metadata": {},
   "outputs": [],
   "source": [
    "with (open(preprocess_transformer_path, \"rb\")) as _openfile:\n",
    "    trained_preprocess_transform = pickle.load(_openfile)"
   ]
  },
  {
   "cell_type": "code",
   "execution_count": 7,
   "metadata": {},
   "outputs": [],
   "source": [
    "with (open(tag2idx_path, \"rb\")) as _openfile:\n",
    "    tag2idx = pickle.load(_openfile)"
   ]
  },
  {
   "cell_type": "code",
   "execution_count": 8,
   "metadata": {},
   "outputs": [
    {
     "data": {
      "text/plain": [
       "{'B-PER': 0,\n",
       " 'B-ORG': 1,\n",
       " 'I-PER': 2,\n",
       " 'B-MISC': 3,\n",
       " 'I-ORG': 4,\n",
       " 'I-LOC': 5,\n",
       " 'I-MISC': 6,\n",
       " 'O': 7,\n",
       " 'B-LOC': 8}"
      ]
     },
     "execution_count": 8,
     "metadata": {},
     "output_type": "execute_result"
    }
   ],
   "source": [
    "tag2idx"
   ]
  },
  {
   "cell_type": "code",
   "execution_count": 9,
   "metadata": {},
   "outputs": [],
   "source": [
    "with (open(idx2tag_path, \"rb\")) as _openfile:\n",
    "    idx2tag = pickle.load(_openfile)"
   ]
  },
  {
   "cell_type": "code",
   "execution_count": 10,
   "metadata": {},
   "outputs": [
    {
     "data": {
      "text/plain": [
       "{0: 'B-PER',\n",
       " 1: 'B-ORG',\n",
       " 2: 'I-PER',\n",
       " 3: 'B-MISC',\n",
       " 4: 'I-ORG',\n",
       " 5: 'I-LOC',\n",
       " 6: 'I-MISC',\n",
       " 7: 'O',\n",
       " 8: 'B-LOC'}"
      ]
     },
     "execution_count": 10,
     "metadata": {},
     "output_type": "execute_result"
    }
   ],
   "source": [
    "idx2tag"
   ]
  },
  {
   "cell_type": "code",
   "execution_count": 11,
   "metadata": {},
   "outputs": [],
   "source": [
    "import numpy as np\n",
    "import tensorflow as tf\n",
    "import random as python_random\n",
    "\n",
    "# The below is necessary for starting Numpy generated random numbers\n",
    "# in a well-defined initial state.\n",
    "np.random.seed(123)\n",
    "\n",
    "# The below is necessary for starting core Python generated random numbers\n",
    "# in a well-defined state.\n",
    "python_random.seed(123)\n",
    "\n",
    "# The below set_seed() will make random number generation\n",
    "# in the TensorFlow backend have a well-defined initial state.\n",
    "# For further details, see:\n",
    "# https://www.tensorflow.org/api_docs/python/tf/random/set_seed\n",
    "tf.set_random_seed(1234)"
   ]
  },
  {
   "cell_type": "code",
   "execution_count": 12,
   "metadata": {},
   "outputs": [],
   "source": [
    "model = load_model(save_best_weights,custom_objects={'CRF': CRF,\n",
    "                               'crf_loss': crf_loss,\n",
    "                               'crf_viterbi_accuracy': crf_viterbi_accuracy,\n",
    "                                'crf_marginal_accuracy':crf_marginal_accuracy,\n",
    "                                'get_f1': get_f1})"
   ]
  },
  {
   "cell_type": "markdown",
   "metadata": {},
   "source": [
    "## Hold out dataset"
   ]
  },
  {
   "cell_type": "code",
   "execution_count": 13,
   "metadata": {},
   "outputs": [
    {
     "data": {
      "text/html": [
       "<div>\n",
       "<style scoped>\n",
       "    .dataframe tbody tr th:only-of-type {\n",
       "        vertical-align: middle;\n",
       "    }\n",
       "\n",
       "    .dataframe tbody tr th {\n",
       "        vertical-align: top;\n",
       "    }\n",
       "\n",
       "    .dataframe thead th {\n",
       "        text-align: right;\n",
       "    }\n",
       "</style>\n",
       "<table border=\"1\" class=\"dataframe\">\n",
       "  <thead>\n",
       "    <tr style=\"text-align: right;\">\n",
       "      <th></th>\n",
       "      <th>word</th>\n",
       "      <th>pos</th>\n",
       "      <th>chunk</th>\n",
       "      <th>tag</th>\n",
       "    </tr>\n",
       "  </thead>\n",
       "  <tbody>\n",
       "    <tr>\n",
       "      <td>0</td>\n",
       "      <td>-DOCSTART-</td>\n",
       "      <td>-X-</td>\n",
       "      <td>-X-</td>\n",
       "      <td>O</td>\n",
       "    </tr>\n",
       "    <tr>\n",
       "      <td>1</td>\n",
       "      <td>NaN</td>\n",
       "      <td>NaN</td>\n",
       "      <td>NaN</td>\n",
       "      <td>NaN</td>\n",
       "    </tr>\n",
       "    <tr>\n",
       "      <td>2</td>\n",
       "      <td>SOCCER</td>\n",
       "      <td>NN</td>\n",
       "      <td>I-NP</td>\n",
       "      <td>O</td>\n",
       "    </tr>\n",
       "    <tr>\n",
       "      <td>3</td>\n",
       "      <td>-</td>\n",
       "      <td>:</td>\n",
       "      <td>O</td>\n",
       "      <td>O</td>\n",
       "    </tr>\n",
       "    <tr>\n",
       "      <td>4</td>\n",
       "      <td>JAPAN</td>\n",
       "      <td>NNP</td>\n",
       "      <td>I-NP</td>\n",
       "      <td>I-LOC</td>\n",
       "    </tr>\n",
       "  </tbody>\n",
       "</table>\n",
       "</div>"
      ],
      "text/plain": [
       "         word  pos chunk    tag\n",
       "0  -DOCSTART-  -X-   -X-      O\n",
       "1         NaN  NaN   NaN    NaN\n",
       "2      SOCCER   NN  I-NP      O\n",
       "3           -    :     O      O\n",
       "4       JAPAN  NNP  I-NP  I-LOC"
      ]
     },
     "execution_count": 13,
     "metadata": {},
     "output_type": "execute_result"
    }
   ],
   "source": [
    "validate_iob_tag_df = pd.read_csv(validation_iob_tagged_file,delimiter=' ',skip_blank_lines=False, \n",
    "                                  header = None, names = ['word','pos','chunk','tag'])\n",
    "validate_iob_tag_df.head()"
   ]
  },
  {
   "cell_type": "code",
   "execution_count": 14,
   "metadata": {},
   "outputs": [
    {
     "data": {
      "text/plain": [
       "word            0\n",
       "pos             0\n",
       "chunk           0\n",
       "tag             0\n",
       "sentence_num    0\n",
       "doc_num         0\n",
       "dtype: int64"
      ]
     },
     "execution_count": 14,
     "metadata": {},
     "output_type": "execute_result"
    }
   ],
   "source": [
    "validate_iob_tagged_df_cleaned = pre_process_data_ner(validate_iob_tag_df)\n",
    "validate_iob_tagged_df_cleaned.isna().sum()"
   ]
  },
  {
   "cell_type": "code",
   "execution_count": 15,
   "metadata": {},
   "outputs": [
    {
     "data": {
      "text/plain": [
       "Counter({'O': 37902,\n",
       "         'I-LOC': 1919,\n",
       "         'I-PER': 2773,\n",
       "         'I-MISC': 909,\n",
       "         'I-ORG': 2491,\n",
       "         'B-ORG': 5,\n",
       "         'B-MISC': 9,\n",
       "         'B-LOC': 6})"
      ]
     },
     "execution_count": 15,
     "metadata": {},
     "output_type": "execute_result"
    }
   ],
   "source": [
    "validate_tag_counts = collections.Counter(validate_iob_tagged_df_cleaned[\"tag\"])\n",
    "validate_tag_counts"
   ]
  },
  {
   "cell_type": "code",
   "execution_count": 16,
   "metadata": {},
   "outputs": [
    {
     "data": {
      "text/html": [
       "<div>\n",
       "<style scoped>\n",
       "    .dataframe tbody tr th:only-of-type {\n",
       "        vertical-align: middle;\n",
       "    }\n",
       "\n",
       "    .dataframe tbody tr th {\n",
       "        vertical-align: top;\n",
       "    }\n",
       "\n",
       "    .dataframe thead th {\n",
       "        text-align: right;\n",
       "    }\n",
       "</style>\n",
       "<table border=\"1\" class=\"dataframe\">\n",
       "  <thead>\n",
       "    <tr style=\"text-align: right;\">\n",
       "      <th></th>\n",
       "      <th>word</th>\n",
       "      <th>pos</th>\n",
       "      <th>chunk</th>\n",
       "      <th>tag</th>\n",
       "      <th>sentence_num</th>\n",
       "      <th>doc_num</th>\n",
       "      <th>iob2_tag</th>\n",
       "      <th>iob2_chunk</th>\n",
       "    </tr>\n",
       "  </thead>\n",
       "  <tbody>\n",
       "    <tr>\n",
       "      <td>2</td>\n",
       "      <td>SOCCER</td>\n",
       "      <td>NN</td>\n",
       "      <td>I-NP</td>\n",
       "      <td>O</td>\n",
       "      <td>0</td>\n",
       "      <td>0</td>\n",
       "      <td>O</td>\n",
       "      <td>B-NP</td>\n",
       "    </tr>\n",
       "    <tr>\n",
       "      <td>3</td>\n",
       "      <td>-</td>\n",
       "      <td>:</td>\n",
       "      <td>O</td>\n",
       "      <td>O</td>\n",
       "      <td>0</td>\n",
       "      <td>0</td>\n",
       "      <td>O</td>\n",
       "      <td>O</td>\n",
       "    </tr>\n",
       "    <tr>\n",
       "      <td>4</td>\n",
       "      <td>JAPAN</td>\n",
       "      <td>NNP</td>\n",
       "      <td>I-NP</td>\n",
       "      <td>I-LOC</td>\n",
       "      <td>0</td>\n",
       "      <td>0</td>\n",
       "      <td>B-LOC</td>\n",
       "      <td>B-NP</td>\n",
       "    </tr>\n",
       "    <tr>\n",
       "      <td>5</td>\n",
       "      <td>GET</td>\n",
       "      <td>VB</td>\n",
       "      <td>I-VP</td>\n",
       "      <td>O</td>\n",
       "      <td>0</td>\n",
       "      <td>0</td>\n",
       "      <td>O</td>\n",
       "      <td>B-VP</td>\n",
       "    </tr>\n",
       "    <tr>\n",
       "      <td>6</td>\n",
       "      <td>LUCKY</td>\n",
       "      <td>NNP</td>\n",
       "      <td>I-NP</td>\n",
       "      <td>O</td>\n",
       "      <td>0</td>\n",
       "      <td>0</td>\n",
       "      <td>O</td>\n",
       "      <td>B-NP</td>\n",
       "    </tr>\n",
       "  </tbody>\n",
       "</table>\n",
       "</div>"
      ],
      "text/plain": [
       "     word  pos chunk    tag  sentence_num  doc_num iob2_tag iob2_chunk\n",
       "2  SOCCER   NN  I-NP      O             0        0        O       B-NP\n",
       "3       -    :     O      O             0        0        O          O\n",
       "4   JAPAN  NNP  I-NP  I-LOC             0        0    B-LOC       B-NP\n",
       "5     GET   VB  I-VP      O             0        0        O       B-VP\n",
       "6   LUCKY  NNP  I-NP      O             0        0        O       B-NP"
      ]
     },
     "execution_count": 16,
     "metadata": {},
     "output_type": "execute_result"
    }
   ],
   "source": [
    "validate_iob_tagged_df_cleaned[\"iob2_tag\"] = iob_to_iob2(validate_iob_tagged_df_cleaned)\n",
    "validate_iob_tagged_df_cleaned[\"iob2_chunk\"] = iob_to_iob2(validate_iob_tagged_df_cleaned,'chunk')\n",
    "validate_iob_tagged_df_cleaned.head()"
   ]
  },
  {
   "cell_type": "code",
   "execution_count": 17,
   "metadata": {},
   "outputs": [],
   "source": [
    "validate_iob_tagged_df_cleaned.drop(['chunk','tag'], axis = 1, inplace = True)\n",
    "validate_iob_tagged_df_cleaned.rename(columns = {'iob2_tag':'tag',\n",
    "                                              'iob2_chunk':'chunk'}, inplace = True)"
   ]
  },
  {
   "cell_type": "code",
   "execution_count": 18,
   "metadata": {},
   "outputs": [
    {
     "data": {
      "text/plain": [
       "(26456, 6)"
      ]
     },
     "execution_count": 18,
     "metadata": {},
     "output_type": "execute_result"
    }
   ],
   "source": [
    "validate_iob_tagged_df_cleaned_reduced = reduce_sentence_length_by_word(validate_iob_tagged_df_cleaned,\n",
    "                                                                     max_words,'sentence_num')\n",
    "validate_iob_tagged_df_cleaned_reduced.shape"
   ]
  },
  {
   "cell_type": "code",
   "execution_count": 19,
   "metadata": {},
   "outputs": [],
   "source": [
    "#validate_iob_tagged_df_cleaned_reduced.to_csv('../data/explainable_ner/test_a.csv', index = False)"
   ]
  },
  {
   "cell_type": "code",
   "execution_count": 20,
   "metadata": {},
   "outputs": [
    {
     "data": {
      "text/plain": [
       "Counter({'O': 21261,\n",
       "         'B-LOC': 1149,\n",
       "         'B-PER': 1001,\n",
       "         'I-PER': 688,\n",
       "         'I-LOC': 170,\n",
       "         'B-MISC': 396,\n",
       "         'I-MISC': 137,\n",
       "         'B-ORG': 1184,\n",
       "         'I-ORG': 470})"
      ]
     },
     "execution_count": 20,
     "metadata": {},
     "output_type": "execute_result"
    }
   ],
   "source": [
    "validate_tag_counts = collections.Counter(validate_iob_tagged_df_cleaned_reduced[\"tag\"])\n",
    "validate_tag_counts"
   ]
  },
  {
   "cell_type": "code",
   "execution_count": 21,
   "metadata": {},
   "outputs": [],
   "source": [
    "validate_getter = SentenceGetter(validate_iob_tagged_df_cleaned_reduced)\n",
    "validate_sentences = validate_getter.sentences"
   ]
  },
  {
   "cell_type": "code",
   "execution_count": 22,
   "metadata": {},
   "outputs": [
    {
     "data": {
      "text/plain": [
       "25"
      ]
     },
     "execution_count": 22,
     "metadata": {},
     "output_type": "execute_result"
    }
   ],
   "source": [
    "X_validate = [[vocab_to_int[w[0]] if w[0] in vocab_to_int.keys() else vocab_to_int['<UNK>'] for w in s]\\\n",
    "                                                            for s in validate_sentences]\n",
    "X_validate = pad_sequences(maxlen = max_len, sequences = X_validate, \n",
    "                        padding  = 'post', value = vocab_to_int['<PAD>'])\n",
    "len(X_validate[0])"
   ]
  },
  {
   "cell_type": "code",
   "execution_count": 23,
   "metadata": {},
   "outputs": [],
   "source": [
    "y_validate = [[tag2idx[w[3]] for w in s] for s in validate_sentences]\n",
    "y_validate = pad_sequences(maxlen = max_len, sequences = y_validate, padding  = 'post', value = tag2idx['O'])"
   ]
  },
  {
   "cell_type": "code",
   "execution_count": 24,
   "metadata": {},
   "outputs": [],
   "source": [
    "y_validate = [to_categorical(i, num_classes = n_tags) for i in y_validate]"
   ]
  },
  {
   "cell_type": "code",
   "execution_count": 25,
   "metadata": {},
   "outputs": [
    {
     "data": {
      "text/plain": [
       "(2884, 25)"
      ]
     },
     "execution_count": 25,
     "metadata": {},
     "output_type": "execute_result"
    }
   ],
   "source": [
    "X_aux_validate =  [sent2features(s, num_word_prev, num_word_next, max_len) for s in validate_sentences]\n",
    "len(X_aux_validate), len(X_aux_validate[0])"
   ]
  },
  {
   "cell_type": "code",
   "execution_count": 26,
   "metadata": {},
   "outputs": [
    {
     "name": "stderr",
     "output_type": "stream",
     "text": [
      "D:\\Anaconda\\envs\\XAI_NER\\lib\\site-packages\\pandas\\core\\frame.py:4244: SettingWithCopyWarning: \n",
      "A value is trying to be set on a copy of a slice from a DataFrame\n",
      "\n",
      "See the caveats in the documentation: http://pandas.pydata.org/pandas-docs/stable/user_guide/indexing.html#returning-a-view-versus-a-copy\n",
      "  **kwargs\n"
     ]
    },
    {
     "data": {
      "text/plain": [
       "(2884, 25, 2684)"
      ]
     },
     "execution_count": 26,
     "metadata": {},
     "output_type": "execute_result"
    }
   ],
   "source": [
    "aux_validate_input, _ = format_aux_input(X_aux_validate, max_len = max_len,\n",
    "                                     preproc_transform = trained_preprocess_transform)\n",
    "              #oh_encoder = trained_oh_encoder, standard_transform = trained_standard_transform)\n",
    "aux_validate_input.shape"
   ]
  },
  {
   "cell_type": "code",
   "execution_count": 27,
   "metadata": {},
   "outputs": [
    {
     "name": "stdout",
     "output_type": "stream",
     "text": [
      "2884/2884 [==============================] - 13s 4ms/step\n"
     ]
    }
   ],
   "source": [
    "validate_pred = model.predict([X_validate,aux_validate_input], verbose=1)"
   ]
  },
  {
   "cell_type": "code",
   "execution_count": 28,
   "metadata": {},
   "outputs": [
    {
     "data": {
      "text/plain": [
       "(2884, 25, 9)"
      ]
     },
     "execution_count": 28,
     "metadata": {},
     "output_type": "execute_result"
    }
   ],
   "source": [
    "validate_pred.shape"
   ]
  },
  {
   "cell_type": "code",
   "execution_count": 29,
   "metadata": {},
   "outputs": [],
   "source": [
    "validate_pred_labels = pred2label(validate_pred, idx2tag)\n",
    "validate_labels = pred2label(y_validate, idx2tag)"
   ]
  },
  {
   "cell_type": "code",
   "execution_count": 30,
   "metadata": {},
   "outputs": [
    {
     "name": "stdout",
     "output_type": "stream",
     "text": [
      "F1-score: 75.3%\n",
      "           precision    recall  f1-score   support\n",
      "\n",
      "      ORG       0.73      0.76      0.75      1184\n",
      "     MISC       0.54      0.67      0.60       396\n",
      "      PER       0.70      0.77      0.73      1001\n",
      "      LOC       0.87      0.82      0.84      1149\n",
      "\n",
      "micro avg       0.74      0.77      0.75      3730\n",
      "macro avg       0.75      0.77      0.76      3730\n",
      "\n"
     ]
    }
   ],
   "source": [
    "print(\"F1-score: {:.1%}\".format(f1_score(validate_labels, validate_pred_labels)))\n",
    "print(classification_report(validate_labels, validate_pred_labels))"
   ]
  }
 ],
 "metadata": {
  "kernelspec": {
   "display_name": "Python 3",
   "language": "python",
   "name": "python3"
  },
  "language_info": {
   "codemirror_mode": {
    "name": "ipython",
    "version": 3
   },
   "file_extension": ".py",
   "mimetype": "text/x-python",
   "name": "python",
   "nbconvert_exporter": "python",
   "pygments_lexer": "ipython3",
   "version": "3.6.9"
  }
 },
 "nbformat": 4,
 "nbformat_minor": 4
}
